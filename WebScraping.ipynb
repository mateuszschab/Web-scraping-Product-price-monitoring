{
 "cells": [
  {
   "cell_type": "code",
   "execution_count": 1,
   "metadata": {},
   "outputs": [],
   "source": [
    "# %pip install beautifulsoup4\n",
    "# %pip install requests\n",
    "\n",
    "import urllib.robotparser\n",
    "import requests\n",
    "import csv\n",
    "import pandas as pd\n",
    "from bs4 import BeautifulSoup\n"
   ]
  },
  {
   "cell_type": "markdown",
   "metadata": {},
   "source": [
    "## User Agent"
   ]
  },
  {
   "cell_type": "code",
   "execution_count": 2,
   "metadata": {},
   "outputs": [],
   "source": [
    "# Common User Agent List\n",
    "# https://www.networkinghowtos.com/howto/common-user-agent-list/\n",
    "user_agent = \"Mozilla/5.0 (Windows NT 6.3; Trident/7.0; rv 11.0) like Gecko\""
   ]
  },
  {
   "cell_type": "markdown",
   "metadata": {},
   "source": [
    "## Selection of the data download site"
   ]
  },
  {
   "cell_type": "code",
   "execution_count": null,
   "metadata": {},
   "outputs": [],
   "source": [
    "url = \"https://www.ceneo.pl/\"\n",
    "\n",
    "#ID Samsung Galaxy S20 SM-G980 8/128GB Szary\n",
    "tail = \"91074688\""
   ]
  },
  {
   "cell_type": "markdown",
   "metadata": {},
   "source": [
    "## Checking the rules for downloading data"
   ]
  },
  {
   "cell_type": "code",
   "execution_count": 3,
   "metadata": {},
   "outputs": [],
   "source": [
    "rp = urllib.robotparser.RobotFileParser()\n",
    "rp.set_url(url + \"robots.txt\")\n",
    "rp.read()"
   ]
  },
  {
   "cell_type": "code",
   "execution_count": 5,
   "metadata": {},
   "outputs": [],
   "source": [
    "headers = requests.utils.default_headers()\n",
    "\n",
    "headers.update(\n",
    "    {\n",
    "        \"User-Agent\": user_agent,\n",
    "    }\n",
    ")"
   ]
  },
  {
   "cell_type": "code",
   "execution_count": 7,
   "metadata": {},
   "outputs": [],
   "source": [
    "store = []\n",
    "rating = []\n",
    "title = []\n",
    "price = []\n",
    "rating_number = []"
   ]
  },
  {
   "cell_type": "markdown",
   "metadata": {},
   "source": [
    "## Selecting data"
   ]
  },
  {
   "cell_type": "code",
   "execution_count": 8,
   "metadata": {},
   "outputs": [],
   "source": [
    "if rp.can_fetch(user_agent, url+tail):\n",
    "    response = requests.get(url+tail, headers=headers)\n",
    "\n",
    "    if response.ok:\n",
    "        page = BeautifulSoup(response.text, 'html.parser')\n",
    "\n",
    "        # Product price\n",
    "        temp_value = page.select('ul > li > div > div.product-offer__container.js_product-offer > div.product-offer__store-with-product > div.product-offer__product.js_product-offer__product.js_productName.specific-variant-content > div.product-offer__product__price > a > span > span > span.value')\n",
    "        temp_penny = page.select('ul > li > div > div.product-offer__container.js_product-offer > div.product-offer__store-with-product > div.product-offer__product.js_product-offer__product.js_productName.specific-variant-content > div.product-offer__product__price > a > span > span > span.penny')\n",
    "        for i in range(len(temp_value)):\n",
    "            price.append(temp_value[i].text+temp_penny[i].text)\n",
    "        price = [w.replace(' ', '') for w in price]\n",
    "\n",
    "        # Store name\n",
    "        temp_name = page.select('div.product-offer a.js_product-offer-link')\n",
    "        for i in range(len(temp_name)):\n",
    "            store.append(temp_name[i].text)\n",
    "        store = [w.replace('Dane i opinie o ', '') for w in store]\n",
    "\n",
    "        # Store rating\n",
    "        temp_rating = page.select('ul > li > div > div.product-offer__container.js_product-offer > div.product-offer__store-with-product > div.product-offer__store > div.product-offer__store__logo__rating > span.stars.js_mini-shop-info.js_no-conv > span.screen-reader-text')\n",
    "        for i in range(len(temp_rating)):\n",
    "            rating.append(temp_rating[i].text)\n",
    "        rating = [w.replace('Ocena ', '').replace(' ','') for w in rating]\n",
    "\n",
    "        # Product title\n",
    "        temp_title = page.select('ul > li > div > div.product-offer__container.js_product-offer > div.product-offer__store-with-product > div.product-offer__product.js_product-offer__product.js_productName.specific-variant-content > div.product-offer__product__offer-details > div.product-offer__product__offer-details__name > a > span')\n",
    "        for i in range(len(temp_title)):\n",
    "            title.append(temp_title[i].text)\n",
    "\n",
    "        # Number of ratings\n",
    "        temp_rating_num = page.select('ul > li > div > div.product-offer__container.js_product-offer > div.product-offer__store-with-product > div.product-offer__store > div.product-offer__store__logo__rating > span.link.link--accent.js_mini-shop-info.js_no-conv')\n",
    "        for i in range(len(temp_rating_num)):\n",
    "            rating_number.append(temp_rating_num[i].text)\n",
    "        rating_number = [w.replace(' opinie', '').replace(' opinii', '') for w in rating_number]\n",
    "else:\n",
    "    print(\"Access to \" + tail + \" denied\")"
   ]
  },
  {
   "cell_type": "markdown",
   "metadata": {},
   "source": [
    "## Create final data table and save to .csv file"
   ]
  },
  {
   "cell_type": "code",
   "execution_count": 9,
   "metadata": {},
   "outputs": [],
   "source": [
    "data_table = pd.DataFrame(list(zip(\n",
    "    store, rating, rating_number, price, title)),\n",
    "    columns = ['Store_name','Positive_store_rating','Number_of_ratings','Price','Product_title']\n",
    ")"
   ]
  },
  {
   "cell_type": "code",
   "execution_count": 11,
   "metadata": {},
   "outputs": [],
   "source": [
    "data_table.to_csv('example_result.csv', sep='\\t', encoding='utf-8')"
   ]
  }
 ],
 "metadata": {
  "kernelspec": {
   "display_name": "Python 3.9.2 64-bit ('env': venv)",
   "language": "python",
   "name": "python3"
  },
  "language_info": {
   "codemirror_mode": {
    "name": "ipython",
    "version": 3
   },
   "file_extension": ".py",
   "mimetype": "text/x-python",
   "name": "python",
   "nbconvert_exporter": "python",
   "pygments_lexer": "ipython3",
   "version": "3.9.2"
  },
  "orig_nbformat": 4,
  "vscode": {
   "interpreter": {
    "hash": "aadb3894289de65753ded94d615f2ab6551331e41c01c78d1491e73b4b8c6f50"
   }
  }
 },
 "nbformat": 4,
 "nbformat_minor": 2
}
